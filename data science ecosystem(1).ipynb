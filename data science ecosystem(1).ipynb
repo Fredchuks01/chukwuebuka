{
  "metadata": {
    "kernelspec": {
      "name": "python",
      "display_name": "Python (Pyodide)",
      "language": "python"
    },
    "language_info": {
      "codemirror_mode": {
        "name": "python",
        "version": 3
      },
      "file_extension": ".py",
      "mimetype": "text/x-python",
      "name": "python",
      "nbconvert_exporter": "python",
      "pygments_lexer": "ipython3",
      "version": "3.8"
    }
  },
  "nbformat_minor": 4,
  "nbformat": 4,
  "cells": [
    {
      "cell_type": "markdown",
      "source": "# data science tools and ecosystem",
      "metadata": {}
    },
    {
      "cell_type": "markdown",
      "source": "# in this notebook data science tools and ecosystem are summarized",
      "metadata": {}
    },
    {
      "cell_type": "markdown",
      "source": "## Objectives:\n- python language\n- R language\n- SQL\n- Machine Learning\n- Java",
      "metadata": {}
    },
    {
      "cell_type": "markdown",
      "source": "# some of the popular languages that data scientist use are:\n1. python language\n2. R language\n3. SQL",
      "metadata": {}
    },
    {
      "cell_type": "markdown",
      "source": "# Some of the commonly used libraries used by data scientist include\n1. pandas\n2. numpy\n3. matplotlib\n4. seaborn\n5. scikit\n6. keras",
      "metadata": {}
    },
    {
      "cell_type": "markdown",
      "source": "| data science tools|\n|-------------------|\n|R Studio|\n|Jupiter Notebook|\n|Jupiter Lab|",
      "metadata": {}
    },
    {
      "cell_type": "markdown",
      "source": "### below are few examples of evaluating arithmetic expressions in python",
      "metadata": {}
    },
    {
      "cell_type": "code",
      "source": "# this is a simple arithmetic expression to multiply 3 to 4 and the add 5\n(3*4)+5",
      "metadata": {
        "trusted": true
      },
      "outputs": [
        {
          "execution_count": 2,
          "output_type": "execute_result",
          "data": {
            "text/plain": "17"
          },
          "metadata": {}
        }
      ],
      "execution_count": 2
    },
    {
      "cell_type": "code",
      "source": "# this will convert 200 minutes to hours by dividing by 60\n200/60 ",
      "metadata": {
        "trusted": true
      },
      "outputs": [
        {
          "execution_count": 5,
          "output_type": "execute_result",
          "data": {
            "text/plain": "3.3333333333333335"
          },
          "metadata": {}
        }
      ],
      "execution_count": 5
    },
    {
      "cell_type": "markdown",
      "source": "# Author\nAgu chukwuebuka fredrick",
      "metadata": {}
    },
    {
      "cell_type": "code",
      "source": "",
      "metadata": {
        "trusted": true
      },
      "outputs": [],
      "execution_count": null
    }
  ]
}