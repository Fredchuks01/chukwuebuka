{
  "metadata": {
    "kernelspec": {
      "name": "python",
      "display_name": "Python (Pyodide)",
      "language": "python"
    },
    "language_info": {
      "name": ""
    }
  },
  "nbformat_minor": 4,
  "nbformat": 4,
  "cells": [
    {
      "cell_type": "markdown",
      "source": "# data science tools and ecosystem",
      "metadata": {}
    },
    {
      "cell_type": "markdown",
      "source": "# In this Notebook, Data Science Tools and Ecosystem are summarised",
      "metadata": {}
    },
    {
      "cell_type": "markdown",
      "source": "## Objectives:\n- Python Language\n- R Language\n- SQL\n- Machine Learning\n- java",
      "metadata": {}
    },
    {
      "cell_type": "markdown",
      "source": "# Some of the popular  Languages that Data Scientist use are:\n1. Python\n2. R\n3. SQL",
      "metadata": {}
    },
    {
      "cell_type": "markdown",
      "source": "# some of the commonly used libraries used by data scientist include:\n1. Pandas\n2. Numpy\n3. Matplotlib\n4. Seaborn\n5. Scikit \n6. Keras",
      "metadata": {}
    },
    {
      "cell_type": "markdown",
      "source": "| Data science tools |\n|--------------------|\n R Studio\n Jupiter Note book\n Jupiter Lab\n",
      "metadata": {}
    },
    {
      "cell_type": "markdown",
      "source": "### Below are a few example of evaluating arithmetic expressions in python\n--------------------------------------------------------------------------",
      "metadata": {}
    },
    {
      "cell_type": "code",
      "source": "# This is a simple arithmetic expression to multiply 3 to 4 then add 5\n (3*4)+5",
      "metadata": {
        "trusted": true
      },
      "outputs": [],
      "execution_count": null
    },
    {
      "cell_type": "code",
      "source": "# This will convert 200 minutes to hours by dividing by 60\n200/60",
      "metadata": {
        "trusted": true
      },
      "outputs": [],
      "execution_count": null
    },
    {
      "cell_type": "markdown",
      "source": "## Author\nAgu Chukwuebuka Fredrick",
      "metadata": {}
    },
    {
      "cell_type": "code",
      "source": "",
      "metadata": {
        "trusted": true
      },
      "outputs": [],
      "execution_count": null
    }
  ]
}